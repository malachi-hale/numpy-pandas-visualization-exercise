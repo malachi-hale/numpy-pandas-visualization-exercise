{
 "cells": [
  {
   "cell_type": "code",
   "execution_count": null,
   "id": "5f951963",
   "metadata": {},
   "outputs": [],
   "source": [
    "#People with 0 dependents churn more, but there doesn’t seem to be a correlation between number of dependents and churn rate.\n",
    "#However, there are also more monthly customers with no dependents.\n",
    "#The churn rate descends until we reach 3 dependents, at which point the churn rate rises slightly. \n"
   ]
  }
 ],
 "metadata": {
  "kernelspec": {
   "display_name": "Python 3",
   "language": "python",
   "name": "python3"
  },
  "language_info": {
   "codemirror_mode": {
    "name": "ipython",
    "version": 3
   },
   "file_extension": ".py",
   "mimetype": "text/x-python",
   "name": "python",
   "nbconvert_exporter": "python",
   "pygments_lexer": "ipython3",
   "version": "3.8.8"
  }
 },
 "nbformat": 4,
 "nbformat_minor": 5
}
